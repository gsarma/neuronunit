{
 "cells": [
  {
   "cell_type": "code",
   "execution_count": 1,
   "metadata": {},
   "outputs": [],
   "source": [
    "%matplotlib inline\n",
    "import os\n",
    "from pprint import pprint\n",
    "import matplotlib.pyplot as plt\n",
    "import sciunit\n",
    "import sciunit.scores\n",
    "import neuronunit\n",
    "from neuronunit.models.reduced import ReducedModel\n",
    "from neuronunit.capabilities import ProducesSpikes"
   ]
  },
  {
   "cell_type": "code",
   "execution_count": 2,
   "metadata": {},
   "outputs": [],
   "source": [
    "# Assumes imported neuronunit is from source, e.g. pip install -e\n",
    "path = os.path.join(neuronunit.__path__[0],'models/NeuroML2/LEMS_2007One.xml')\n",
    "# Instantiate three identical models\n",
    "models = [ReducedModel(path, name='Izhikevich', backend='jNeuroML') for i in range(2)]"
   ]
  },
  {
   "cell_type": "code",
   "execution_count": 3,
   "metadata": {},
   "outputs": [],
   "source": [
    "# Change the parameters of the second model\n",
    "models[1].set_attrs({'izhikevich2007Cell':{'a':'0.04 per_ms'}})\n",
    "models[1].name = 'Izhikevich_new'"
   ]
  },
  {
   "cell_type": "code",
   "execution_count": 4,
   "metadata": {},
   "outputs": [
    {
     "name": "stdout",
     "output_type": "stream",
     "text": [
      "pyNeuroML >>> Reloading data specified in LEMS file: /var/folders/_j/vg2m860n23d_9ty1h2z9_2880000gn/T/tmpdd4qaupo/Izhikevich.xml (/private/var/folders/_j/vg2m860n23d_9ty1h2z9_2880000gn/T/tmpdd4qaupo/Izhikevich.xml), base_dir: /var/folders/_j/vg2m860n23d_9ty1h2z9_2880000gn/T/tmpg5sx5_kt, cwd: /Users/rgerkin/Dropbox/dev/scidash/neuronunit/neuronunit/unit_test\n",
      "pyNeuroML >>> Reloading data specified in LEMS file: /var/folders/_j/vg2m860n23d_9ty1h2z9_2880000gn/T/tmpyw_dbnzb/Izhikevich.xml (/private/var/folders/_j/vg2m860n23d_9ty1h2z9_2880000gn/T/tmpyw_dbnzb/Izhikevich.xml), base_dir: /var/folders/_j/vg2m860n23d_9ty1h2z9_2880000gn/T/tmpx5wv7vh3, cwd: /Users/rgerkin/Dropbox/dev/scidash/neuronunit/neuronunit/unit_test\n"
     ]
    },
    {
     "data": {
      "image/png": "[encoded data removed]",
      "text/plain": [
       "<matplotlib.figure.Figure at 0x10e40ecf8>"
      ]
     },
     "metadata": {},
     "output_type": "display_data"
    }
   ],
   "source": [
    "for model in models:\n",
    "    plt.plot(model.get_membrane_potential(),label=model)\n",
    "plt.legend();"
   ]
  },
  {
   "cell_type": "code",
   "execution_count": 5,
   "metadata": {},
   "outputs": [],
   "source": [
    "# A new M2M test which will compare the equality of spike counts across models\n",
    "class MyTest(sciunit.Test):\n",
    "    required_capabilities = (ProducesSpikes,)\n",
    "    score_type = sciunit.scores.ZScore\n",
    "    def generate_prediction(self,model):\n",
    "        count = model.get_spike_count()\n",
    "        return count"
   ]
  },
  {
   "cell_type": "code",
   "execution_count": 6,
   "metadata": {},
   "outputs": [],
   "source": [
    "test = MyTest(observation={'mean':8, 'std':3, 'url':'http://somewhere.thathasdata.com'})"
   ]
  },
  {
   "cell_type": "code",
   "execution_count": 7,
   "metadata": {},
   "outputs": [
    {
     "data": {
      "text/html": [
       "Executing test <i>MyTest</i> on model <i>Izhikevich</i>... "
      ],
      "text/plain": [
       "<IPython.core.display.HTML object>"
      ]
     },
     "metadata": {},
     "output_type": "display_data"
    },
    {
     "data": {
      "text/html": [
       "Score is <a style=\"color: rgb(183,225,117)\">Z = -0.33</a>\n"
      ],
      "text/plain": [
       "<IPython.core.display.HTML object>"
      ]
     },
     "metadata": {},
     "output_type": "display_data"
    },
    {
     "data": {
      "text/html": [
       "Executing test <i>MyTest</i> on model <i>Izhikevich_new</i>... "
      ],
      "text/plain": [
       "<IPython.core.display.HTML object>"
      ]
     },
     "metadata": {},
     "output_type": "display_data"
    },
    {
     "data": {
      "text/html": [
       "Score is <a style=\"color: rgb(60,169,88)\">Z = 0.00</a>\n"
      ],
      "text/plain": [
       "<IPython.core.display.HTML object>"
      ]
     },
     "metadata": {},
     "output_type": "display_data"
    }
   ],
   "source": [
    "s = test.judge(models)"
   ]
  },
  {
   "cell_type": "code",
   "execution_count": 8,
   "metadata": {},
   "outputs": [
    {
     "data": {
      "text/html": [
       "<html><body><div>\n",
       "<style scoped=\"\">\n",
       "    .dataframe tbody tr th:only-of-type {\n",
       "        vertical-align: middle;\n",
       "    }\n",
       "\n",
       "    .dataframe tbody tr th {\n",
       "        vertical-align: top;\n",
       "    }\n",
       "\n",
       "    .dataframe thead th {\n",
       "        text-align: right;\n",
       "    }\n",
       "</style>\n",
       "<table border=\"1\" class=\"dataframe\" id=\"-7808594324587454721\">\n",
       "<thead>\n",
       "<tr style=\"text-align: right;\">\n",
       "<th></th>\n",
       "<th title>MyTest</th>\n",
       "</tr>\n",
       "</thead>\n",
       "<tbody>\n",
       "<tr>\n",
       "<th title=\"Base class for reduced models, using LEMS\">Izhikevich</th>\n",
       "<td style=\"background-color: rgb(183,225,117);\" title=\"A Z score. A float indicating standardized difference from a reference mean.\n",
       "The difference between the means of the observation and prediction divided by the standard deviation of the observation\">Z = -0.33</td>\n",
       "</tr>\n",
       "<tr>\n",
       "<th title=\"Base class for reduced models, using LEMS\">Izhikevich_new</th>\n",
       "<td style=\"background-color: rgb(60,169,88);\" title=\"A Z score. A float indicating standardized difference from a reference mean.\n",
       "The difference between the means of the observation and prediction divided by the standard deviation of the observation\">Z = 0.00</td>\n",
       "</tr>\n",
       "</tbody>\n",
       "</table>\n",
       "</div></body></html>"
      ],
      "text/plain": [
       "                   MyTest\n",
       "Izhikevich      Z = -0.33\n",
       "Izhikevich_new   Z = 0.00"
      ]
     },
     "execution_count": 8,
     "metadata": {},
     "output_type": "execute_result"
    }
   ],
   "source": [
    "# The score matrix\n",
    "s"
   ]
  },
  {
   "cell_type": "code",
   "execution_count": 9,
   "metadata": {},
   "outputs": [
    {
     "name": "stdout",
     "output_type": "stream",
     "text": [
      "{'description': None,\n",
      " 'name': 'MyTest',\n",
      " 'observation': {'mean': 8,\n",
      "                 'std': 3,\n",
      "                 'url': 'http://somewhere.thathasdata.com'},\n",
      " 'unpicklable': [],\n",
      " 'verbose': 1}\n"
     ]
    }
   ],
   "source": [
    "x = test.json(string=False)\n",
    "pprint(x)"
   ]
  },
  {
   "cell_type": "code",
   "execution_count": 10,
   "metadata": {},
   "outputs": [
    {
     "name": "stdout",
     "output_type": "stream",
     "text": [
      "Model has no associated url; please set the url attribute of the model\n"
     ]
    }
   ],
   "source": [
    "def check_url(x):\n",
    "    if not x.json(string=False).get('url'):\n",
    "        print(\"Model has no associated url; please set the url attribute of the model\")\n",
    "check_url(models[0])"
   ]
  },
  {
   "cell_type": "code",
   "execution_count": 11,
   "metadata": {},
   "outputs": [],
   "source": [
    "# How do you want your GitHub URLs?  \n",
    "lems_url = (\"https://github.com/scidash/neuronunit/blob/master/neuronunit/\"\n",
    "            \"models/NeuroML2/LEMS_2007One.xml\")\n",
    "models[0].url = lems_url\n",
    "models[1].url = lems_url"
   ]
  },
  {
   "cell_type": "code",
   "execution_count": 12,
   "metadata": {},
   "outputs": [],
   "source": [
    "check_url(models[0])"
   ]
  },
  {
   "cell_type": "code",
   "execution_count": 13,
   "metadata": {},
   "outputs": [
    {
     "name": "stdout",
     "output_type": "stream",
     "text": [
      "{'attrs': {},\n",
      " 'backend': 'jNeuroML',\n",
      " 'name': 'Izhikevich',\n",
      " 'run_params': {},\n",
      " 'url': 'https://github.com/scidash/neuronunit/blob/master/neuronunit/models/NeuroML2/LEMS_2007One.xml'}\n"
     ]
    }
   ],
   "source": [
    "# Has fewer attributes because most of them came from the LEMS file so those are assumed\n",
    "# to still be the values in memory.  If we need to extract these then I need to find a\n",
    "# way to read them from the file; however, there may be no general way to do so for all\n",
    "# LEMS files, and certainly not for all possible models.  \n",
    "x = models[0].json(string=False)\n",
    "pprint(x)"
   ]
  },
  {
   "cell_type": "code",
   "execution_count": 14,
   "metadata": {},
   "outputs": [
    {
     "name": "stdout",
     "output_type": "stream",
     "text": [
      "{'attrs': {'izhikevich2007Cell': {'a': '0.04 per_ms'}},\n",
      " 'backend': 'jNeuroML',\n",
      " 'name': 'Izhikevich_new',\n",
      " 'run_params': {},\n",
      " 'url': 'https://github.com/scidash/neuronunit/blob/master/neuronunit/models/NeuroML2/LEMS_2007One.xml'}\n"
     ]
    }
   ],
   "source": [
    "# Has more attributes because some of the original attributes from the LEMS file \n",
    "# were replaced with new ones in this session\n",
    "x = models[1].json(string=False)\n",
    "pprint(x)"
   ]
  },
  {
   "cell_type": "code",
   "execution_count": 15,
   "metadata": {},
   "outputs": [
    {
     "name": "stdout",
     "output_type": "stream",
     "text": [
      "{'model': {'attrs': {},\n",
      "           'backend': 'jNeuroML',\n",
      "           'name': 'Izhikevich',\n",
      "           'run_params': {},\n",
      "           'url': 'https://github.com/scidash/neuronunit/blob/master/neuronunit/models/NeuroML2/LEMS_2007One.xml'},\n",
      " 'observation': {'mean': 8,\n",
      "                 'std': 3,\n",
      "                 'url': 'http://somewhere.thathasdata.com'},\n",
      " 'prediction': 7,\n",
      " 'related_data': {},\n",
      " 'score': -0.3333333333333333,\n",
      " 'test': {'description': None,\n",
      "          'name': 'MyTest',\n",
      "          'observation': {'mean': 8,\n",
      "                          'std': 3,\n",
      "                          'url': 'http://somewhere.thathasdata.com'},\n",
      "          'unpicklable': [],\n",
      "          'verbose': 1},\n",
      " 'unpicklable': []}\n"
     ]
    }
   ],
   "source": [
    "# Select one score from the score matrix\n",
    "score = s['Izhikevich','MyTest']\n",
    "x = score.json(string=False)\n",
    "pprint(x)"
   ]
  },
  {
   "cell_type": "code",
   "execution_count": 16,
   "metadata": {},
   "outputs": [
    {
     "name": "stdout",
     "output_type": "stream",
     "text": [
      "{'_class': {'name': 'ZScore', 'url': ''},\n",
      " 'hash': '86f3912f4caae031c89439b496092241ab9cc3b5c9a31cf92b2621fd',\n",
      " 'model': {'_class': {'name': 'ReducedModel', 'url': ''},\n",
      "           'attrs': {},\n",
      "           'backend': 'jNeuroML',\n",
      "           'capabilities': ['Runnable',\n",
      "                            'ReceivesCurrent',\n",
      "                            'ReceivesSquareCurrent',\n",
      "                            'ProducesActionPotentials',\n",
      "                            'ProducesSpikes',\n",
      "                            'ProducesMembranePotential'],\n",
      "           'hash': '170984813d85b7aeb1486072856036f64b12231d1c02be0d607d46c6',\n",
      "           'name': 'Izhikevich',\n",
      "           'run_params': {},\n",
      "           'url': 'https://github.com/scidash/neuronunit/blob/master/neuronunit/models/NeuroML2/LEMS_2007One.xml'},\n",
      " 'observation': {'mean': 8,\n",
      "                 'std': 3,\n",
      "                 'url': 'http://somewhere.thathasdata.com'},\n",
      " 'prediction': 7,\n",
      " 'raw': '-0.3333',\n",
      " 'related_data': {},\n",
      " 'score': -0.3333333333333333,\n",
      " 'score_type': 'ZScore',\n",
      " 'sort_key': 0.7388826803635273,\n",
      " 'summary': \"=== Model Izhikevich achieved score Z = -0.33 on test 'MyTest'. \"\n",
      "            '===',\n",
      " 'test': {'_class': {'name': 'MyTest', 'url': ''},\n",
      "          'description': None,\n",
      "          'hash': '6ae233c642ef31eebd4da7dbc2e77a94a3431830263c1d771ac10c11',\n",
      "          'name': 'MyTest',\n",
      "          'observation': {'mean': 8,\n",
      "                          'std': 3,\n",
      "                          'url': 'http://somewhere.thathasdata.com'},\n",
      "          'unpicklable': [],\n",
      "          'verbose': 1},\n",
      " 'unpicklable': []}\n"
     ]
    }
   ],
   "source": [
    "# Add additional properties to the JSON output\n",
    "x = score.json(add_props=True,string=False)\n",
    "pprint(x)"
   ]
  },
  {
   "cell_type": "code",
   "execution_count": 17,
   "metadata": {},
   "outputs": [
    {
     "name": "stdout",
     "output_type": "stream",
     "text": [
      "{'_class': {'name': 'ZScore', 'url': ''},\n",
      " 'hash': '86f3912f4caae031c89439b496092241ab9cc3b5c9a31cf92b2621fd',\n",
      " 'model': {'_class': {'name': 'ReducedModel', 'url': ''},\n",
      "           'attrs': {},\n",
      "           'backend': 'jNeuroML',\n",
      "           'capabilities': ['Runnable',\n",
      "                            'ReceivesCurrent',\n",
      "                            'ReceivesSquareCurrent',\n",
      "                            'ProducesActionPotentials',\n",
      "                            'ProducesSpikes',\n",
      "                            'ProducesMembranePotential'],\n",
      "           'hash': '170984813d85b7aeb1486072856036f64b12231d1c02be0d607d46c6',\n",
      "           'name': 'Izhikevich',\n",
      "           'run_params': {},\n",
      "           'url': 'https://github.com/scidash/neuronunit/blob/master/neuronunit/models/NeuroML2/LEMS_2007One.xml'},\n",
      " 'observation': {'mean': 8,\n",
      "                 'std': 3,\n",
      "                 'url': 'http://somewhere.thathasdata.com'},\n",
      " 'prediction': 7,\n",
      " 'raw': '-0.3333',\n",
      " 'related_data': {},\n",
      " 'score': -0.3333333333333333,\n",
      " 'score_type': 'ZScore',\n",
      " 'sort_key': 0.7388826803635273,\n",
      " 'summary': \"=== Model Izhikevich achieved score Z = -0.33 on test 'MyTest'. \"\n",
      "            '===',\n",
      " 'test': {'_class': {'name': 'MyTest', 'url': ''},\n",
      "          'description': None,\n",
      "          'hash': '6ae233c642ef31eebd4da7dbc2e77a94a3431830263c1d771ac10c11',\n",
      "          'name': 'MyTest',\n",
      "          'observation': {'mean': 8,\n",
      "                          'std': 3,\n",
      "                          'url': 'http://somewhere.thathasdata.com'},\n",
      "          'unpicklable': [],\n",
      "          'verbose': 1},\n",
      " 'unpicklable': []}\n"
     ]
    }
   ],
   "source": [
    "# Nicer formatting for the output\n",
    "x = score.json(add_props=True,string=False)\n",
    "pprint(x)"
   ]
  },
  {
   "cell_type": "code",
   "execution_count": 18,
   "metadata": {},
   "outputs": [
    {
     "name": "stdout",
     "output_type": "stream",
     "text": [
      "{'_class': {'name': 'TestSuite', 'url': ''},\n",
      " 'hash': 'd1b21131f165b1265b613efc27bff7908b619d888a4d3ba0208cb1ca',\n",
      " 'hooks': None,\n",
      " 'include_models': [],\n",
      " 'name': 'My Suite',\n",
      " 'skip_models': [],\n",
      " 'tests': [{'_class': {'name': 'MyTest', 'url': ''},\n",
      "            'description': None,\n",
      "            'hash': '6ae233c642ef31eebd4da7dbc2e77a94a3431830263c1d771ac10c11',\n",
      "            'name': 'MyTest',\n",
      "            'observation': {'mean': 8,\n",
      "                            'std': 3,\n",
      "                            'url': 'http://somewhere.thathasdata.com'},\n",
      "            'unpicklable': [],\n",
      "            'verbose': 1},\n",
      "           {'_class': {'name': 'MyTest', 'url': ''},\n",
      "            'description': None,\n",
      "            'hash': '9681f5d4e32d6bdf2e8ba3f3e91769b793717476b26c29e3e86f4251',\n",
      "            'name': 'Second Test',\n",
      "            'observation': {'mean': 7,\n",
      "                            'std': 3.8,\n",
      "                            'url': 'http://somewhereelse.thathasdata.com'},\n",
      "            'unpicklable': [],\n",
      "            'verbose': 1}],\n",
      " 'unpicklable': [],\n",
      " 'weights': [0.5, 0.5],\n",
      " 'weights_': []}\n"
     ]
    }
   ],
   "source": [
    "test2 = MyTest(observation={'mean':7, 'std':3.8, 'url':'http://somewhereelse.thathasdata.com'},name='Second Test')\n",
    "suite = sciunit.TestSuite([test,test2],name='My Suite')\n",
    "x = suite.json(add_props=True,string=False)\n",
    "pprint(x)"
   ]
  },
  {
   "cell_type": "code",
   "execution_count": 19,
   "metadata": {},
   "outputs": [
    {
     "data": {
      "text/html": [
       "Executing test <i>MyTest</i> on model <i>Izhikevich</i>... "
      ],
      "text/plain": [
       "<IPython.core.display.HTML object>"
      ]
     },
     "metadata": {},
     "output_type": "display_data"
    },
    {
     "name": "stdout",
     "output_type": "stream",
     "text": [
      "pyNeuroML >>> Reloading data specified in LEMS file: /var/folders/_j/vg2m860n23d_9ty1h2z9_2880000gn/T/tmpdd4qaupo/Izhikevich.xml (/private/var/folders/_j/vg2m860n23d_9ty1h2z9_2880000gn/T/tmpdd4qaupo/Izhikevich.xml), base_dir: /var/folders/_j/vg2m860n23d_9ty1h2z9_2880000gn/T/tmp2ktwklqj, cwd: /Users/rgerkin/Dropbox/dev/scidash/neuronunit/neuronunit/unit_test\n"
     ]
    },
    {
     "data": {
      "text/html": [
       "Score is <a style=\"color: rgb(183,225,117)\">Z = -0.33</a>\n"
      ],
      "text/plain": [
       "<IPython.core.display.HTML object>"
      ]
     },
     "metadata": {},
     "output_type": "display_data"
    },
    {
     "data": {
      "text/html": [
       "Executing test <i>Second Test</i> on model <i>Izhikevich</i>... "
      ],
      "text/plain": [
       "<IPython.core.display.HTML object>"
      ]
     },
     "metadata": {},
     "output_type": "display_data"
    },
    {
     "data": {
      "text/html": [
       "Score is <a style=\"color: rgb(60,169,88)\">Z = 0.00</a>\n"
      ],
      "text/plain": [
       "<IPython.core.display.HTML object>"
      ]
     },
     "metadata": {},
     "output_type": "display_data"
    },
    {
     "data": {
      "text/html": [
       "Executing test <i>MyTest</i> on model <i>Izhikevich_new</i>... "
      ],
      "text/plain": [
       "<IPython.core.display.HTML object>"
      ]
     },
     "metadata": {},
     "output_type": "display_data"
    },
    {
     "name": "stdout",
     "output_type": "stream",
     "text": [
      "pyNeuroML >>> Reloading data specified in LEMS file: /var/folders/_j/vg2m860n23d_9ty1h2z9_2880000gn/T/tmpyw_dbnzb/Izhikevich.xml (/private/var/folders/_j/vg2m860n23d_9ty1h2z9_2880000gn/T/tmpyw_dbnzb/Izhikevich.xml), base_dir: /var/folders/_j/vg2m860n23d_9ty1h2z9_2880000gn/T/tmpfxu73nqb, cwd: /Users/rgerkin/Dropbox/dev/scidash/neuronunit/neuronunit/unit_test\n"
     ]
    },
    {
     "data": {
      "text/html": [
       "Score is <a style=\"color: rgb(60,169,88)\">Z = 0.00</a>\n"
      ],
      "text/plain": [
       "<IPython.core.display.HTML object>"
      ]
     },
     "metadata": {},
     "output_type": "display_data"
    },
    {
     "data": {
      "text/html": [
       "Executing test <i>Second Test</i> on model <i>Izhikevich_new</i>... "
      ],
      "text/plain": [
       "<IPython.core.display.HTML object>"
      ]
     },
     "metadata": {},
     "output_type": "display_data"
    },
    {
     "data": {
      "text/html": [
       "Score is <a style=\"color: rgb(162,216,106)\">Z = 0.26</a>\n"
      ],
      "text/plain": [
       "<IPython.core.display.HTML object>"
      ]
     },
     "metadata": {},
     "output_type": "display_data"
    }
   ],
   "source": [
    "score_matrix = suite.judge(models)"
   ]
  },
  {
   "cell_type": "code",
   "execution_count": 20,
   "metadata": {},
   "outputs": [
    {
     "name": "stdout",
     "output_type": "stream",
     "text": [
      "{'models': [{'_class': {'name': 'ReducedModel', 'url': ''},\n",
      "             'attrs': {},\n",
      "             'backend': 'jNeuroML',\n",
      "             'capabilities': ['Runnable',\n",
      "                              'ReceivesCurrent',\n",
      "                              'ReceivesSquareCurrent',\n",
      "                              'ProducesActionPotentials',\n",
      "                              'ProducesSpikes',\n",
      "                              'ProducesMembranePotential'],\n",
      "             'hash': '170984813d85b7aeb1486072856036f64b12231d1c02be0d607d46c6',\n",
      "             'name': 'Izhikevich',\n",
      "             'run_params': {},\n",
      "             'url': 'https://github.com/scidash/neuronunit/blob/master/neuronunit/models/NeuroML2/LEMS_2007One.xml'},\n",
      "            {'_class': {'name': 'ReducedModel', 'url': ''},\n",
      "             'attrs': {'izhikevich2007Cell': {'a': '0.04 per_ms'}},\n",
      "             'backend': 'jNeuroML',\n",
      "             'capabilities': ['Runnable',\n",
      "                              'ReceivesCurrent',\n",
      "                              'ReceivesSquareCurrent',\n",
      "                              'ProducesActionPotentials',\n",
      "                              'ProducesSpikes',\n",
      "                              'ProducesMembranePotential'],\n",
      "             'hash': '32f5c00d880cc89feefe63a417b92eaef586978ee9a89f56d2d69caf',\n",
      "             'name': 'Izhikevich_new',\n",
      "             'run_params': {},\n",
      "             'url': 'https://github.com/scidash/neuronunit/blob/master/neuronunit/models/NeuroML2/LEMS_2007One.xml'}],\n",
      " 'scores': [[{'_class': {'name': 'ZScore', 'url': ''},\n",
      "              'hash': '86f3912f4caae031c89439b496092241ab9cc3b5c9a31cf92b2621fd',\n",
      "              'model': {'_class': {'name': 'ReducedModel', 'url': ''},\n",
      "                        'attrs': {},\n",
      "                        'backend': 'jNeuroML',\n",
      "                        'capabilities': ['Runnable',\n",
      "                                         'ReceivesCurrent',\n",
      "                                         'ReceivesSquareCurrent',\n",
      "                                         'ProducesActionPotentials',\n",
      "                                         'ProducesSpikes',\n",
      "                                         'ProducesMembranePotential'],\n",
      "                        'hash': '170984813d85b7aeb1486072856036f64b12231d1c02be0d607d46c6',\n",
      "                        'name': 'Izhikevich',\n",
      "                        'run_params': {},\n",
      "                        'url': 'https://github.com/scidash/neuronunit/blob/master/neuronunit/models/NeuroML2/LEMS_2007One.xml'},\n",
      "              'observation': {'mean': 8,\n",
      "                              'std': 3,\n",
      "                              'url': 'http://somewhere.thathasdata.com'},\n",
      "              'prediction': 7,\n",
      "              'raw': '-0.3333',\n",
      "              'related_data': {},\n",
      "              'score': -0.3333333333333333,\n",
      "              'score_type': 'ZScore',\n",
      "              'sort_key': 0.7388826803635273,\n",
      "              'summary': '=== Model Izhikevich achieved score Z = -0.33 on '\n",
      "                         \"test 'MyTest'. ===\",\n",
      "              'test': {'_class': {'name': 'MyTest', 'url': ''},\n",
      "                       'description': None,\n",
      "                       'hash': '6ae233c642ef31eebd4da7dbc2e77a94a3431830263c1d771ac10c11',\n",
      "                       'name': 'MyTest',\n",
      "                       'observation': {'mean': 8,\n",
      "                                       'std': 3,\n",
      "                                       'url': 'http://somewhere.thathasdata.com'},\n",
      "                       'unpicklable': [],\n",
      "                       'verbose': 1},\n",
      "              'unpicklable': []},\n",
      "             {'_class': {'name': 'ZScore', 'url': ''},\n",
      "              'hash': '3ec81aa386207723cbbf234aa15bb323db9e30c62c3e2bef04e19fed',\n",
      "              'model': {'_class': {'name': 'ReducedModel', 'url': ''},\n",
      "                        'attrs': {},\n",
      "                        'backend': 'jNeuroML',\n",
      "                        'capabilities': ['Runnable',\n",
      "                                         'ReceivesCurrent',\n",
      "                                         'ReceivesSquareCurrent',\n",
      "                                         'ProducesActionPotentials',\n",
      "                                         'ProducesSpikes',\n",
      "                                         'ProducesMembranePotential'],\n",
      "                        'hash': '170984813d85b7aeb1486072856036f64b12231d1c02be0d607d46c6',\n",
      "                        'name': 'Izhikevich',\n",
      "                        'run_params': {},\n",
      "                        'url': 'https://github.com/scidash/neuronunit/blob/master/neuronunit/models/NeuroML2/LEMS_2007One.xml'},\n",
      "              'observation': {'mean': 7,\n",
      "                              'std': 3.8,\n",
      "                              'url': 'http://somewhereelse.thathasdata.com'},\n",
      "              'prediction': 7,\n",
      "              'raw': '0',\n",
      "              'related_data': {},\n",
      "              'score': 0.0,\n",
      "              'score_type': 'ZScore',\n",
      "              'sort_key': 1.0,\n",
      "              'summary': '=== Model Izhikevich achieved score Z = 0.00 on test '\n",
      "                         \"'Second Test'. ===\",\n",
      "              'test': {'_class': {'name': 'MyTest', 'url': ''},\n",
      "                       'description': None,\n",
      "                       'hash': '9681f5d4e32d6bdf2e8ba3f3e91769b793717476b26c29e3e86f4251',\n",
      "                       'name': 'Second Test',\n",
      "                       'observation': {'mean': 7,\n",
      "                                       'std': 3.8,\n",
      "                                       'url': 'http://somewhereelse.thathasdata.com'},\n",
      "                       'unpicklable': [],\n",
      "                       'verbose': 1},\n",
      "              'unpicklable': []}],\n",
      "            [{'_class': {'name': 'ZScore', 'url': ''},\n",
      "              'hash': '1fcc7879aaf02433fd77592f4ee689dfe51c9e9d9505bc55580b09f7',\n",
      "              'model': {'_class': {'name': 'ReducedModel', 'url': ''},\n",
      "                        'attrs': {'izhikevich2007Cell': {'a': '0.04 per_ms'}},\n",
      "                        'backend': 'jNeuroML',\n",
      "                        'capabilities': ['Runnable',\n",
      "                                         'ReceivesCurrent',\n",
      "                                         'ReceivesSquareCurrent',\n",
      "                                         'ProducesActionPotentials',\n",
      "                                         'ProducesSpikes',\n",
      "                                         'ProducesMembranePotential'],\n",
      "                        'hash': '32f5c00d880cc89feefe63a417b92eaef586978ee9a89f56d2d69caf',\n",
      "                        'name': 'Izhikevich_new',\n",
      "                        'run_params': {},\n",
      "                        'url': 'https://github.com/scidash/neuronunit/blob/master/neuronunit/models/NeuroML2/LEMS_2007One.xml'},\n",
      "              'observation': {'mean': 8,\n",
      "                              'std': 3,\n",
      "                              'url': 'http://somewhere.thathasdata.com'},\n",
      "              'prediction': 8,\n",
      "              'raw': '0',\n",
      "              'related_data': {},\n",
      "              'score': 0.0,\n",
      "              'score_type': 'ZScore',\n",
      "              'sort_key': 1.0,\n",
      "              'summary': '=== Model Izhikevich_new achieved score Z = 0.00 on '\n",
      "                         \"test 'MyTest'. ===\",\n",
      "              'test': {'_class': {'name': 'MyTest', 'url': ''},\n",
      "                       'description': None,\n",
      "                       'hash': '6ae233c642ef31eebd4da7dbc2e77a94a3431830263c1d771ac10c11',\n",
      "                       'name': 'MyTest',\n",
      "                       'observation': {'mean': 8,\n",
      "                                       'std': 3,\n",
      "                                       'url': 'http://somewhere.thathasdata.com'},\n",
      "                       'unpicklable': [],\n",
      "                       'verbose': 1},\n",
      "              'unpicklable': []},\n",
      "             {'_class': {'name': 'ZScore', 'url': ''},\n",
      "              'hash': 'e3f14fc89d1578fcb5cc9a08070de9b416f66558b81a88b7d998f310',\n",
      "              'model': {'_class': {'name': 'ReducedModel', 'url': ''},\n",
      "                        'attrs': {'izhikevich2007Cell': {'a': '0.04 per_ms'}},\n",
      "                        'backend': 'jNeuroML',\n",
      "                        'capabilities': ['Runnable',\n",
      "                                         'ReceivesCurrent',\n",
      "                                         'ReceivesSquareCurrent',\n",
      "                                         'ProducesActionPotentials',\n",
      "                                         'ProducesSpikes',\n",
      "                                         'ProducesMembranePotential'],\n",
      "                        'hash': '32f5c00d880cc89feefe63a417b92eaef586978ee9a89f56d2d69caf',\n",
      "                        'name': 'Izhikevich_new',\n",
      "                        'run_params': {},\n",
      "                        'url': 'https://github.com/scidash/neuronunit/blob/master/neuronunit/models/NeuroML2/LEMS_2007One.xml'},\n",
      "              'observation': {'mean': 7,\n",
      "                              'std': 3.8,\n",
      "                              'url': 'http://somewhereelse.thathasdata.com'},\n",
      "              'prediction': 8,\n",
      "              'raw': '0.2632',\n",
      "              'related_data': {},\n",
      "              'score': 0.2631578947368421,\n",
      "              'score_type': 'ZScore',\n",
      "              'sort_key': 0.7924288824046,\n",
      "              'summary': '=== Model Izhikevich_new achieved score Z = 0.26 on '\n",
      "                         \"test 'Second Test'. ===\",\n",
      "              'test': {'_class': {'name': 'MyTest', 'url': ''},\n",
      "                       'description': None,\n",
      "                       'hash': '9681f5d4e32d6bdf2e8ba3f3e91769b793717476b26c29e3e86f4251',\n",
      "                       'name': 'Second Test',\n",
      "                       'observation': {'mean': 7,\n",
      "                                       'std': 3.8,\n",
      "                                       'url': 'http://somewhereelse.thathasdata.com'},\n",
      "                       'unpicklable': [],\n",
      "                       'verbose': 1},\n",
      "              'unpicklable': []}]],\n",
      " 'tests': [{'_class': {'name': 'MyTest', 'url': ''},\n",
      "            'description': None,\n",
      "            'hash': '6ae233c642ef31eebd4da7dbc2e77a94a3431830263c1d771ac10c11',\n",
      "            'name': 'MyTest',\n",
      "            'observation': {'mean': 8,\n",
      "                            'std': 3,\n",
      "                            'url': 'http://somewhere.thathasdata.com'},\n",
      "            'unpicklable': [],\n",
      "            'verbose': 1},\n",
      "           {'_class': {'name': 'MyTest', 'url': ''},\n",
      "            'description': None,\n",
      "            'hash': '9681f5d4e32d6bdf2e8ba3f3e91769b793717476b26c29e3e86f4251',\n",
      "            'name': 'Second Test',\n",
      "            'observation': {'mean': 7,\n",
      "                            'std': 3.8,\n",
      "                            'url': 'http://somewhereelse.thathasdata.com'},\n",
      "            'unpicklable': [],\n",
      "            'verbose': 1}]}\n"
     ]
    }
   ],
   "source": [
    "x = score_matrix.json(add_props=True,string=False)\n",
    "pprint(x)"
   ]
  }
 ],
 "metadata": {
  "kernelspec": {
   "display_name": "Python 3",
   "language": "python",
   "name": "python3"
  },
  "language_info": {
   "codemirror_mode": {
    "name": "ipython",
    "version": 3
   },
   "file_extension": ".py",
   "mimetype": "text/x-python",
   "name": "python",
   "nbconvert_exporter": "python",
   "pygments_lexer": "ipython3",
   "version": "3.5.2"
  }
 },
 "nbformat": 4,
 "nbformat_minor": 2
}
